{
  "nbformat": 4,
  "nbformat_minor": 0,
  "metadata": {
    "colab": {
      "name": "CUSTOM TRAINING BASICS",
      "provenance": [],
      "authorship_tag": "ABX9TyOxw3slhmRvjaR4KGZhTa7e",
      "include_colab_link": true
    },
    "kernelspec": {
      "name": "python3",
      "display_name": "Python 3"
    },
    "language_info": {
      "name": "python"
    }
  },
  "cells": [
    {
      "cell_type": "markdown",
      "metadata": {
        "id": "view-in-github",
        "colab_type": "text"
      },
      "source": [
        "<a href=\"https://colab.research.google.com/github/Bobbyorr007/CUSTOM-TRAINING-BASICS/blob/main/CUSTOM_TRAINING_BASICS.ipynb\" target=\"_parent\"><img src=\"https://colab.research.google.com/assets/colab-badge.svg\" alt=\"Open In Colab\"/></a>"
      ]
    },
    {
      "cell_type": "markdown",
      "source": [
        "**IMPORTS**"
      ],
      "metadata": {
        "id": "4483GPMhIaG_"
      }
    },
    {
      "cell_type": "code",
      "source": [
        "from __future__ import absolute_import, division, print_function, unicode_literals\n",
        "\n",
        "import tensorflow as tf\n",
        "import numpy as np\n",
        "import matplotlib.pyplot as plt"
      ],
      "metadata": {
        "id": "Ot2V-drvIfIi"
      },
      "execution_count": 1,
      "outputs": []
    },
    {
      "cell_type": "markdown",
      "source": [
        "**DEFINE THE MODEL**\n",
        "\n",
        "I defined my model as a class.\n",
        "- I made x my input tensor.\n",
        "- I made my model's output to be (wx + b)\n",
        "- I started off by initializing the values of w and b to random values.\n",
        "- During training i noticed how the values of w and b got updated in accordance with linear regression so as to minimize the loss inquired by my model\n",
        "- As i arrived at the optimal values of w and b, my model was able to predict correctly the values of wx + b.\n",
        "\n",
        "\n",
        "Hence,\n",
        "w and b are trainable weights of the model,\n",
        "x is the input\n",
        "y = wx + b is the output."
      ],
      "metadata": {
        "id": "ZtxSllOrJpr8"
      }
    },
    {
      "cell_type": "code",
      "source": [
        "class Model(object):\n",
        "  def __init__(self):\n",
        "    # I initialize the weights to 1.0 and the bais to 0.5.\n",
        "    # In practice, these are supposed to be initialized to random values using tf.random.normal\n",
        "    self.w = tf.Variable(2.0)# Notice how i used tf.Variable to create the weights, if tf.constant was used, the weights wont be updated during training.\n",
        "    self.b = tf.Variable(1.0)\n",
        "  \n",
        "  def __call__(self, x):\n",
        "    return self.w * x + self.b\n",
        "\n",
        "model = Model()"
      ],
      "metadata": {
        "id": "tNX8kzMTJkGp"
      },
      "execution_count": 2,
      "outputs": []
    },
    {
      "cell_type": "markdown",
      "source": [
        "**DEFINE A LOSS FUNCTION**\n",
        "\n",
        "A loss function measures how well the output of a model for a given input matches the target input.\n",
        "\n",
        "The goal is to minimize this difference during training\n",
        "I used the standard L2 loss, also know as the least squared errors.\n",
        "\n",
        "Loss = mean(Ypred - Ytarget)**2"
      ],
      "metadata": {
        "id": "r6LRiWx0NWne"
      }
    },
    {
      "cell_type": "code",
      "source": [
        "def loss(predicted_y, target_y):\n",
        "  return tf.reduce_mean(tf.square(predicted_y - target_y))"
      ],
      "metadata": {
        "id": "k55wW_xpNPHB"
      },
      "execution_count": 3,
      "outputs": []
    },
    {
      "cell_type": "markdown",
      "source": [
        "**OBTAINING THE TRANING DATA**\n",
        "\n",
        "\n",
        "I first created the training data using the true values of w and b.\n",
        "\n",
        "Y = Wtrue * X + Btrue"
      ],
      "metadata": {
        "id": "wNjWmW1YdRP8"
      }
    },
    {
      "cell_type": "code",
      "source": [
        "TRUE_w = 3.0\n",
        "TRUE_b = 2.0\n",
        "NUM_EXAMPLES = 1000\n",
        "\n",
        "xs = tf.random.normal(shape=[NUM_EXAMPLES])\n",
        "\n",
        "ys = (TRUE_w * xs) + TRUE_b\n"
      ],
      "metadata": {
        "id": "-k94ql1Ecldj"
      },
      "execution_count": 4,
      "outputs": []
    },
    {
      "cell_type": "markdown",
      "source": [
        "Before I trained the model, I visualized the loss value by plootting the model's predictions in red crosses and the training data in blue dots."
      ],
      "metadata": {
        "id": "B_HucK9Isq-G"
      }
    },
    {
      "cell_type": "code",
      "source": [
        "def plot_data(inputs, outputs, predicted_outputs):\n",
        "  real = plt.scatter(inputs, outputs, c='b', marker = '.')\n",
        "  predicted = plt.scatter(inputs, predicted_outputs, c = 'r', marker = '+')\n",
        "  plt.legend((real, predicted), ('Real_data','Predicted_data'))\n",
        "  plt.show()"
      ],
      "metadata": {
        "id": "RGZ1zF-MsYjD"
      },
      "execution_count": 5,
      "outputs": []
    },
    {
      "cell_type": "code",
      "source": [
        "plot_data(xs, ys, model(xs))\n",
        "print('Current loss: %1.6f' % loss(model(xs), ys).numpy())"
      ],
      "metadata": {
        "colab": {
          "base_uri": "https://localhost:8080/",
          "height": 282
        },
        "id": "dJZkKgmXuwqM",
        "outputId": "e2da5037-d271-42e5-b5e5-e9fd404e093b"
      },
      "execution_count": 6,
      "outputs": [
        {
          "output_type": "display_data",
          "data": {
            "image/png": "[encoded data removed]",
            "text/plain": [
              "<Figure size 432x288 with 1 Axes>"
            ]
          },
          "metadata": {
            "needs_background": "light"
          }
        },
        {
          "output_type": "stream",
          "name": "stdout",
          "text": [
            "Current loss: 2.020761\n"
          ]
        }
      ]
    },
    {
      "cell_type": "markdown",
      "source": [
        "**DEFINE A TRAINING LOOP**\n",
        "\n",
        "I used gradient decent in training the model with the network and training data.\n",
        "\n",
        "- Gradient tape updates the trainable weights **w** and **b** to reduce the loss.\n",
        "\n",
        "There are so many gradient descent scheme that are captured in tf.train.Optimizer, which is recommended. To understand what happens under the hood using gradient descent, I implemented the maths myself.\n",
        "\n",
        "I used tf.GradientTape for automatic differentiation.\n",
        "Use tf.assign_sub for decrementing a value. Note that assign_sub combines tf.assign and tf.sub."
      ],
      "metadata": {
        "id": "N8a-KPfSwfr-"
      }
    },
    {
      "cell_type": "code",
      "source": [
        "def training_loop(model, inputs, outputs, learning_rate):\n",
        "  with tf.GradientTape() as t:\n",
        "    current_loss = loss(model(inputs), outputs)\n",
        "  dw, db = t.gradient(current_loss, [model.w, model.b])\n",
        "  model.w.assign_sub(learning_rate, dw)\n",
        "  model.b.assign_sub(learning_rate, db) \n",
        "\n",
        "  return current_loss"
      ],
      "metadata": {
        "id": "m1Alf4zovebB"
      },
      "execution_count": 7,
      "outputs": []
    },
    {
      "cell_type": "markdown",
      "source": [
        "Now I ran through the training data iteratively to see how **w** and **b** evolved."
      ],
      "metadata": {
        "id": "rJ47PwPF9Dsq"
      }
    },
    {
      "cell_type": "code",
      "source": [
        "model = Model()\n",
        "\n",
        "#Collect the history of W-values and b-values to plot later\n",
        "list_w, list_b = [], []\n",
        "epochs = range(15)\n",
        "losses = []\n",
        "for epoch in epochs:\n",
        "  list_w.append(model.w.numpy())\n",
        "  list_b.append(model.b.numpy())\n",
        "  current_loss = training_loop(model, xs, ys, learning_rate=0.01)\n",
        "  losses.append(current_loss)\n",
        "  print( print('Epoch %2d: w=%1.2f b=%1.2f, loss=%2.5f' %\n",
        "        (epoch, list_w[-1], list_b[-1], current_loss)))\n"
      ],
      "metadata": {
        "colab": {
          "base_uri": "https://localhost:8080/"
        },
        "id": "zgrlbGa18BKT",
        "outputId": "bc7479c4-e163-4c84-f8d6-51cf11d7a0a4"
      },
      "execution_count": 8,
      "outputs": [
        {
          "output_type": "stream",
          "name": "stdout",
          "text": [
            "Epoch  0: w=2.00 b=1.00, loss=2.02076\n",
            "None\n",
            "Epoch  1: w=1.99 b=0.99, loss=2.06138\n",
            "None\n",
            "Epoch  2: w=1.98 b=0.98, loss=2.10240\n",
            "None\n",
            "Epoch  3: w=1.97 b=0.97, loss=2.14383\n",
            "None\n",
            "Epoch  4: w=1.96 b=0.96, loss=2.18566\n",
            "None\n",
            "Epoch  5: w=1.95 b=0.95, loss=2.22789\n",
            "None\n",
            "Epoch  6: w=1.94 b=0.94, loss=2.27053\n",
            "None\n",
            "Epoch  7: w=1.93 b=0.93, loss=2.31357\n",
            "None\n",
            "Epoch  8: w=1.92 b=0.92, loss=2.35702\n",
            "None\n",
            "Epoch  9: w=1.91 b=0.91, loss=2.40087\n",
            "None\n",
            "Epoch 10: w=1.90 b=0.90, loss=2.44512\n",
            "None\n",
            "Epoch 11: w=1.89 b=0.89, loss=2.48978\n",
            "None\n",
            "Epoch 12: w=1.88 b=0.88, loss=2.53484\n",
            "None\n",
            "Epoch 13: w=1.87 b=0.87, loss=2.58031\n",
            "None\n",
            "Epoch 14: w=1.86 b=0.86, loss=2.62618\n",
            "None\n"
          ]
        }
      ]
    },
    {
      "cell_type": "markdown",
      "source": [
        " I plotted the progression of trainable variables over epochs"
      ],
      "metadata": {
        "id": "y87KJXRbaeEB"
      }
    },
    {
      "cell_type": "code",
      "source": [
        "plt.plot(epochs, list_w, 'r',\n",
        "       epochs, list_b, 'b')\n",
        "plt.plot([TRUE_w] * len(epochs), 'r--',\n",
        "      [TRUE_b] * len(epochs), 'b--')\n",
        "plt.legend(['w', 'b', 'True w', 'True b'])\n",
        "plt.show()"
      ],
      "metadata": {
        "colab": {
          "base_uri": "https://localhost:8080/",
          "height": 265
        },
        "id": "6WB9ubKfZpkj",
        "outputId": "1b03e925-7f52-419a-e481-99b66b192e21"
      },
      "execution_count": 12,
      "outputs": [
        {
          "output_type": "display_data",
          "data": {
            "image/png": "[encoded data removed]",
            "text/plain": [
              "<Figure size 432x288 with 1 Axes>"
            ]
          },
          "metadata": {
            "needs_background": "light"
          }
        }
      ]
    },
    {
      "cell_type": "markdown",
      "source": [
        "**PLOTS FOR EVALUATION**\n",
        "\n",
        "I plotted the actual outputs in red and the model's predictions in blue on a set of random test examples.\n",
        "\n",
        "I observed that the model was able to make fairly accurate predictions on random test examples."
      ],
      "metadata": {
        "id": "TR5yM7aGS5Ea"
      }
    },
    {
      "cell_type": "code",
      "source": [
        "test_inputs = tf.random.normal(shape=[NUM_EXAMPLES])\n",
        "test_outputs = test_inputs * TRUE_w + TRUE_b\n",
        "\n",
        "predicted_test_outputs = model(test_inputs)\n",
        "plot_data(test_inputs, test_outputs, predicted_test_outputs)"
      ],
      "metadata": {
        "colab": {
          "base_uri": "https://localhost:8080/",
          "height": 265
        },
        "id": "zdSx0HkjiVls",
        "outputId": "0ec3d71b-f1fe-49ad-dc96-93575ea00834"
      },
      "execution_count": 13,
      "outputs": [
        {
          "output_type": "display_data",
          "data": {
            "image/png": "[encoded data removed]",
            "text/plain": [
              "<Figure size 432x288 with 1 Axes>"
            ]
          },
          "metadata": {
            "needs_background": "light"
          }
        }
      ]
    },
    {
      "cell_type": "markdown",
      "source": [
        "**Visualize the cost function against the values of each of the trainable weights the model approximated to over time.**"
      ],
      "metadata": {
        "id": "zwbtNUHcVAE7"
      }
    },
    {
      "cell_type": "code",
      "source": [
        "def plot_loss_for_weights(weights_list, losses):\n",
        "  for idx, weights in enumerate(weights_list):\n",
        "    plt.subplot(120 + idx + 1)\n",
        "    plt.plot(weights['values'], losses, 'r')\n",
        "    plt.plot(weights['values'], losses, 'bo')\n",
        "    plt.xlabel(weights['name'])\n",
        "    plt.ylabel('Loss')\n",
        "    \n",
        "    \n",
        "weights_list = [{ 'name' : \"w\",\n",
        "                  'values' : list_w\n",
        "                },\n",
        "                {\n",
        "                  'name' : \"b\",\n",
        "                  'values' : list_b\n",
        "                }]\n",
        "\n",
        "plot_loss_for_weights(weights_list, losses)"
      ],
      "metadata": {
        "colab": {
          "base_uri": "https://localhost:8080/",
          "height": 279
        },
        "id": "p4YB9KosVDqz",
        "outputId": "7843a514-051a-4a06-8319-f72d9a8605a9"
      },
      "execution_count": 14,
      "outputs": [
        {
          "output_type": "display_data",
          "data": {
            "image/png": "[encoded data removed]",
            "text/plain": [
              "<Figure size 432x288 with 2 Axes>"
            ]
          },
          "metadata": {
            "needs_background": "light"
          }
        }
      ]
    },
    {
      "cell_type": "code",
      "source": [
        ""
      ],
      "metadata": {
        "id": "H5hNkAlsWheo"
      },
      "execution_count": null,
      "outputs": []
    }
  ]
}